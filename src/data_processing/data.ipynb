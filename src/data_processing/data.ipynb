{
 "cells": [
  {
   "cell_type": "code",
   "execution_count": 23,
   "metadata": {},
   "outputs": [],
   "source": [
    "import chess.pgn\n",
    "\n",
    "MIN_ELO = 1800\n",
    "GENERATE_GAMES = 50"
   ]
  },
  {
   "cell_type": "code",
   "execution_count": 24,
   "metadata": {},
   "outputs": [],
   "source": [
    "# read games from a .pgn file\n",
    "\n",
    "def process_game(game: chess.pgn.Game) -> None:\n",
    "    # iterate over game moves and store fen in a list\n",
    "    fen_list = []\n",
    "    board = game.board()\n",
    "    for move in game.mainline_moves():\n",
    "        board.push(move)\n",
    "        fen_list.append(\" \".join(board.fen().split(\" \")[:2]))\n",
    "    \n",
    "    # return list of fens\n",
    "    return fen_list\n",
    "\n",
    "\n",
    "moves = []\n",
    "with open(\"../data/games.pgn\") as pgn:\n",
    "    while len(moves) < GENERATE_GAMES:\n",
    "        game = chess.pgn.read_game(pgn)\n",
    "\n",
    "        # if elo is too low, skip game\n",
    "        elo = (int(game.headers[\"WhiteElo\"]) + int(game.headers[\"BlackElo\"])) / 2\n",
    "        if elo > MIN_ELO:\n",
    "          continue\n",
    "\n",
    "        # process game\n",
    "        fens = process_game(game)\n",
    "        moves.extend(fens)\n",
    "\n",
    "# elminiates duplicates\n",
    "moves = list(set(moves))\n"
   ]
  },
  {
   "attachments": {},
   "cell_type": "markdown",
   "metadata": {},
   "source": [
    "# Calculations\n",
    "\n",
    "run stockfish on every game and get the move evaluation"
   ]
  },
  {
   "cell_type": "code",
   "execution_count": 27,
   "metadata": {},
   "outputs": [
    {
     "data": {
      "application/vnd.jupyter.widget-view+json": {
       "model_id": "ce371866b012488a8c8e3effab677306",
       "version_major": 2,
       "version_minor": 0
      },
      "text/plain": [
       "  0%|          | 0/55 [00:00<?, ?it/s]"
      ]
     },
     "metadata": {},
     "output_type": "display_data"
    }
   ],
   "source": [
    "import chess\n",
    "from tqdm.notebook import tqdm\n",
    "\n",
    "# create a stockfish engine\n",
    "import chess.engine\n",
    "stockfish = chess.engine.SimpleEngine.popen_uci(\"../stockfish.avx2\")\n",
    "\n",
    "# evaluate position using stockfish\n",
    "def evaluate_position(fen: str) -> float:\n",
    "    board = chess.Board(fen)\n",
    "    info = stockfish.analyse(board, chess.engine.Limit(time=0.2))\n",
    "    return info[\"score\"].white().score(mate_score=1000)\n",
    "\n",
    "# get evaluation for each position\n",
    "evaluations = [evaluate_position(fen) for fen in tqdm(moves)]\n",
    "\n",
    "# close stockfish engine\n",
    "stockfish.quit()"
   ]
  },
  {
   "attachments": {},
   "cell_type": "markdown",
   "metadata": {},
   "source": [
    "# dataset building\n",
    "\n",
    "Create numpy arrays from chess positions.  \n",
    "\n",
    "One-hot encode chess positions and white-black onehot.  \n",
    "\n",
    "Array of float predictions from stockfish"
   ]
  },
  {
   "cell_type": "code",
   "execution_count": 61,
   "metadata": {},
   "outputs": [],
   "source": [
    "import numpy as np\n",
    "\n",
    "def fen_to_npy(fen: str) -> np.array:\n",
    "    board = chess.Board(fen)\n",
    "    npy = np.zeros((12, 8,8))\n",
    "    for square, piece in board.piece_map().items():\n",
    "        x = square%8\n",
    "        y = square//8\n",
    "        piece_owner = 0 if piece.color == chess.WHITE else 1\n",
    "        piece_type = piece.piece_type -1 + 6*piece_owner\n",
    "\n",
    "        npy[piece_type][y][x] = 1\n",
    "    return npy\n",
    "\n",
    "def fen_to_turn(fen: str) -> int:\n",
    "    return [1, 0] if fen.split(\" \")[1] == \"w\" else [0, 1]"
   ]
  },
  {
   "cell_type": "code",
   "execution_count": 63,
   "metadata": {},
   "outputs": [],
   "source": [
    "one_hot_boards = np.array([fen_to_npy(fen) for fen in moves])\n",
    "turns = np.array([fen_to_turn(fen) for fen in moves])\n",
    "evaluations = np.array(evaluations)"
   ]
  },
  {
   "attachments": {},
   "cell_type": "markdown",
   "metadata": {},
   "source": [
    "# save data to disk\n",
    "\n",
    "use numpy.save()"
   ]
  },
  {
   "cell_type": "code",
   "execution_count": 64,
   "metadata": {},
   "outputs": [],
   "source": [
    "# save data\n",
    "np.save(\"../data/one_hot_boards.npy\", one_hot_boards)\n",
    "np.save(\"../data/turns.npy\", turns)\n",
    "np.save(\"../data/evaluations.npy\", evaluations)"
   ]
  }
 ],
 "metadata": {
  "kernelspec": {
   "display_name": "Python 3",
   "language": "python",
   "name": "python3"
  },
  "language_info": {
   "codemirror_mode": {
    "name": "ipython",
    "version": 3
   },
   "file_extension": ".py",
   "mimetype": "text/x-python",
   "name": "python",
   "nbconvert_exporter": "python",
   "pygments_lexer": "ipython3",
   "version": "3.10.6"
  },
  "orig_nbformat": 4,
  "vscode": {
   "interpreter": {
    "hash": "31f2aee4e71d21fbe5cf8b01ff0e069b9275f58929596ceb00d14d90e3e16cd6"
   }
  }
 },
 "nbformat": 4,
 "nbformat_minor": 2
}
