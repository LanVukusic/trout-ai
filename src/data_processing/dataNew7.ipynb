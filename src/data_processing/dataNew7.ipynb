{
 "cells": [
  {
   "attachments": {},
   "cell_type": "markdown",
   "metadata": {},
   "source": [
    "# generate POS_DATA and PLAYED_MOVE\n",
    "\n",
    "**Pos data**:  \n",
    "Position data with all the information available from standard FEN notation.  \n",
    "Encoded as a $(N,6+1=7,8,8)$ numpy array.  \n",
    "\n",
    "## dimensions:\n",
    "**N** is batch size  \n",
    "**6+1=7** is move, casteling and player color encoding. 6 first layers denote were every of one 6 possible chess pieces are. -1 for white piece, 1 for black and 0 for no piece.  \n",
    "1 additional layers encode casteling and player turns  \n",
    "**8** chessboard heigh  \n",
    "**8** chessboard width  "
   ]
  },
  {
   "cell_type": "markdown",
   "metadata": {},
   "source": []
  },
  {
   "cell_type": "code",
   "execution_count": 7,
   "metadata": {},
   "outputs": [],
   "source": [
    "import chess.pgn\n",
    "\n",
    "# elo limiting for mor consistent results as proposed by MAIA chess paper\n",
    "# https://arxiv.org/abs/2006.01855\n",
    "MIN_ELO = 2300\n",
    "MAX_ELO = 2500  \n",
    "GENERATE_MOVES = 10000\n",
    "STOCKFISH_DEPTH = 20\n",
    "\n",
    "# parameters for early game skipping\n",
    "EARLY_MOVES_N = 8 # First {EARLY_MOVES_N} are considered to be na early game\n",
    "EARLY_DROP_P = 0.8 # Probability of dropping a game if it is in the early game"
   ]
  },
  {
   "cell_type": "code",
   "execution_count": 8,
   "metadata": {},
   "outputs": [
    {
     "name": "stdout",
     "output_type": "stream",
     "text": [
      "Generated 10001 fens and 10001 moves\n"
     ]
    }
   ],
   "source": [
    "# read games from a .pgn file\n",
    "import random\n",
    "\n",
    "def process_game(game: chess.pgn.Game) -> None:\n",
    "    # iterate over game moves and store fen in a list\n",
    "    fen_list = []\n",
    "    next_move_list = []\n",
    "    board = game.board()\n",
    "    for move in game.mainline_moves():\n",
    "        # play move on board\n",
    "        board.push(move)\n",
    "\n",
    "        # introduce a p percent chance to skip a move if it is early in the game\n",
    "        # this should in theory avoid overfitting for early game moves\n",
    "        move_number = board.fullmove_number\n",
    "        if move_number < EARLY_MOVES_N:\n",
    "            if random.random() < EARLY_DROP_P:\n",
    "                continue\n",
    "        \n",
    "        # get the current position \n",
    "        fen_list.append(board.fen())\n",
    "        next_move_list.append(move.uci())\n",
    "\n",
    "    # return list of fens\n",
    "    return fen_list, next_move_list\n",
    "\n",
    "fens = []\n",
    "moves = []\n",
    "with open(\"../data/games.pgn\") as pgn:\n",
    "    while len(moves) < GENERATE_MOVES:\n",
    "        game = chess.pgn.read_game(pgn)\n",
    "        if game is None:\n",
    "            break\n",
    "\n",
    "        # if elo is too low, skip game\n",
    "        elo = (int(game.headers[\"WhiteElo\"]) + int(game.headers[\"BlackElo\"])) / 2\n",
    "        if  MIN_ELO > elo > MAX_ELO:\n",
    "          continue\n",
    "\n",
    "        # process game\n",
    "        fens_o, moves_o = process_game(game)\n",
    "        fens.extend(fens_o)\n",
    "        moves.extend(moves_o)\n",
    "\n",
    "\n",
    "print(f\"Generated {len(fens)} fens and {len(moves)} moves\")\n"
   ]
  },
  {
   "attachments": {},
   "cell_type": "markdown",
   "metadata": {},
   "source": [
    "# Data preprocessing  \n",
    "\n",
    "## board positions  \n",
    "Board positions are represented as a matrix, explained above\n",
    "\n",
    "## moves  \n",
    "Moves will be prediceted by two models that branch from the main one and predict pieces and positions. PiecePicker and PositionPicker  \n",
    "![architecture](../docs/architecture.png)  \n",
    "\n",
    "We need to represent moves in such a way that "
   ]
  },
  {
   "cell_type": "code",
   "execution_count": 9,
   "metadata": {},
   "outputs": [
    {
     "name": "stdout",
     "output_type": "stream",
     "text": [
      "(7, 8, 8)\n"
     ]
    }
   ],
   "source": [
    "import numpy as np\n",
    "\n",
    "\n",
    "def fen_to_turn(fen: str) -> int:\n",
    "    return [1, 0] if fen.split(\" \")[1] == \"w\" else [0, 1]\n",
    "\n",
    "def fen_to_castling(fen: str) -> int:\n",
    "    castling = fen.split(\" \")[2]\n",
    "    return np.array([\n",
    "      1 if \"K\" in castling else 0,\n",
    "      1 if \"Q\" in castling else 0,\n",
    "      1 if \"k\" in castling else 0,\n",
    "      1 if \"q\" in castling else 0,\n",
    "    ])\n",
    "\n",
    "def fen_to_npy(fen: str) -> np.array:\n",
    "    board = chess.Board(fen)\n",
    "    npy = np.zeros((6+1,8,8))\n",
    "    for square, piece in board.piece_map().items():\n",
    "        x = square%8\n",
    "        y = square//8\n",
    "        piece_owner = 1 if piece.color == chess.WHITE else -1\n",
    "        piece_type = piece.piece_type -1\n",
    "\n",
    "        npy[piece_type][y][x] = piece_owner\n",
    "    npy[6][0][0:2] = fen_to_turn(fen)\n",
    "    npy[6][0][2:6] = fen_to_castling(fen)\n",
    "    return npy\n",
    "\n",
    "\n",
    "# convert one sample to npy\n",
    "npy = fen_to_npy(fens[0])\n",
    "print(npy.shape)\n",
    "#print(npy)\n"
   ]
  },
  {
   "cell_type": "code",
   "execution_count": 20,
   "metadata": {},
   "outputs": [],
   "source": [
    "# import chess\n",
    "\n",
    "# # create a stockfish engine\n",
    "# import chess.engine\n",
    "# stockfish = chess.engine.SimpleEngine.popen_uci(\"../stockfish.avx2\")\n",
    "# # set stockfish depth\n",
    "# stockfish.configure({\"Skill Level\": STOCKFISH_DEPTH, \"Threads\": 8})\n",
    "\n",
    "# # evaluate position using stockfish\n",
    "# def evaluate_position(fen: str) -> float:\n",
    "#     board = chess.Board(fen)\n",
    "#     info = stockfish.analyse(board, chess.engine.Limit(time=0.2))\n",
    "#     return info[\"score\"].white().score(mate_score=5000)\n",
    "\n",
    "\n",
    "# # close stockfish engine\n",
    "# stockfish.quit()\n",
    "\n",
    "\n",
    "\n",
    "# REPRESENT MOVES\n",
    "import numpy as np\n",
    "\n",
    "\n",
    "# represent moves with a (8,8,2) npy \n",
    "# 2 8x8 boards, one for from_square and one for to_square\n",
    "\n",
    "def move_to_npy(move: str) -> np.array:\n",
    "    move = chess.Move.from_uci(move)\n",
    "    npy = np.zeros((2,8,8))\n",
    "    npy[0][move.from_square//8][move.from_square%8] = 1\n",
    "    npy[1][move.to_square//8][move.to_square%8] = 1\n",
    "    return npy"
   ]
  },
  {
   "attachments": {},
   "cell_type": "markdown",
   "metadata": {},
   "source": [
    "# dataset building\n",
    "\n",
    "creating a dataset from moves created before"
   ]
  },
  {
   "cell_type": "code",
   "execution_count": 11,
   "metadata": {},
   "outputs": [],
   "source": [
    "from tqdm import tqdm\n",
    "\n",
    "# import tqdm for progress bar"
   ]
  },
  {
   "cell_type": "code",
   "execution_count": 12,
   "metadata": {},
   "outputs": [
    {
     "name": "stderr",
     "output_type": "stream",
     "text": [
      "100%|██████████| 10001/10001 [00:01<00:00, 6877.77it/s]\n"
     ]
    }
   ],
   "source": [
    "# convert all samples to npy\n",
    "\n",
    "# convert moves to npy\n",
    "temp = []\n",
    "for i in tqdm(range(len(fens))):\n",
    "    temp.append(fen_to_npy(fens[i]))\n",
    "npy_fens = np.array(temp)\n",
    "\n",
    "# convert played moves to npy\n",
    "temp = []"
   ]
  },
  {
   "cell_type": "code",
   "execution_count": 21,
   "metadata": {},
   "outputs": [
    {
     "name": "stderr",
     "output_type": "stream",
     "text": [
      "100%|██████████| 10001/10001 [00:00<00:00, 123909.95it/s]"
     ]
    },
    {
     "name": "stdout",
     "output_type": "stream",
     "text": [
      "(2, 8, 8)\n",
      "[[[0. 0. 0. 0. 0. 0. 0. 0.]\n",
      "  [0. 0. 0. 0. 0. 0. 0. 0.]\n",
      "  [0. 0. 0. 0. 0. 0. 0. 0.]\n",
      "  [0. 0. 0. 0. 0. 0. 0. 0.]\n",
      "  [0. 0. 0. 0. 0. 0. 0. 0.]\n",
      "  [0. 0. 0. 0. 0. 0. 0. 0.]\n",
      "  [0. 0. 0. 0. 0. 0. 0. 0.]\n",
      "  [0. 0. 0. 1. 0. 0. 0. 0.]]\n",
      "\n",
      " [[0. 0. 0. 0. 0. 0. 0. 0.]\n",
      "  [0. 0. 0. 0. 0. 0. 0. 0.]\n",
      "  [0. 0. 0. 0. 0. 0. 0. 0.]\n",
      "  [0. 0. 0. 0. 0. 0. 0. 0.]\n",
      "  [0. 0. 0. 0. 0. 0. 0. 0.]\n",
      "  [0. 0. 0. 0. 0. 1. 0. 0.]\n",
      "  [0. 0. 0. 0. 0. 0. 0. 0.]\n",
      "  [0. 0. 0. 0. 0. 0. 0. 0.]]]\n"
     ]
    },
    {
     "name": "stderr",
     "output_type": "stream",
     "text": [
      "\n"
     ]
    }
   ],
   "source": [
    "# Convert moves to npy\n",
    "\n",
    "temp = []\n",
    "for i in tqdm(range(len(moves))):\n",
    "    temp.append(move_to_npy(moves[i]))\n",
    "npy_moves = np.array(temp)\n",
    "\n",
    "# print one sample\n",
    "print(npy_moves[0].shape)\n",
    "print(npy_moves[0])"
   ]
  },
  {
   "attachments": {},
   "cell_type": "markdown",
   "metadata": {},
   "source": [
    "# save data to disk\n",
    "\n",
    "use numpy.save()"
   ]
  },
  {
   "cell_type": "code",
   "execution_count": 16,
   "metadata": {},
   "outputs": [],
   "source": [
    "# save data\n",
    "np.save(\"../data/seven/boards.npy\", npy_fens)\n",
    "np.save(\"../data/seven/moves.npy\", npy_moves) \n"
   ]
  }
 ],
 "metadata": {
  "kernelspec": {
   "display_name": "Python 3",
   "language": "python",
   "name": "python3"
  },
  "language_info": {
   "codemirror_mode": {
    "name": "ipython",
    "version": 3
   },
   "file_extension": ".py",
   "mimetype": "text/x-python",
   "name": "python",
   "nbconvert_exporter": "python",
   "pygments_lexer": "ipython3",
   "version": "3.10.6"
  },
  "orig_nbformat": 4,
  "vscode": {
   "interpreter": {
    "hash": "31f2aee4e71d21fbe5cf8b01ff0e069b9275f58929596ceb00d14d90e3e16cd6"
   }
  }
 },
 "nbformat": 4,
 "nbformat_minor": 2
}
