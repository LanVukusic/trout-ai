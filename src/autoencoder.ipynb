{
 "cells": [
  {
   "cell_type": "code",
   "execution_count": 18,
   "metadata": {},
   "outputs": [
    {
     "name": "stdout",
     "output_type": "stream",
     "text": [
      "(2030, 12, 8, 8)\n",
      "(2030, 1)\n"
     ]
    }
   ],
   "source": [
    "\n",
    "import numpy as np\n",
    "import torch\n",
    "\n",
    "\n",
    "# load the data\n",
    "X = np.load('data/x.npy')\n",
    "y = np.load('data/y.npy')\n",
    "\n",
    "# y = np.array([get_fen_score(board) for board in X])\n",
    "\n",
    "\n",
    "# print(X[0])\n",
    "\n",
    "# reshape y to be [n_samples, 1]\n",
    "y = y.reshape(-1, 1)\n",
    "\n",
    "\n",
    "# preview the data\n",
    "print(X.shape)\n",
    "print(y.shape)\n",
    "\n",
    "\n",
    "\n",
    "# split the data into train and test\n",
    "X_train = X[:int(len(X) * 0.8)]\n",
    "y_train = y[:int(len(y) * 0.8)]\n",
    "X_test = X[int(len(X) * 0.8):]\n",
    "y_test = y[int(len(y) * 0.8):]\n",
    "\n",
    "# convert to torch tensors\n",
    "X_train = torch.from_numpy(X_train).float()\n",
    "y_train = torch.from_numpy(y_train).float()\n",
    "\n",
    "X_test = torch.from_numpy(X_test).float()\n",
    "y_test = torch.from_numpy(y_test).float()"
   ]
  },
  {
   "cell_type": "code",
   "execution_count": 19,
   "metadata": {},
   "outputs": [
    {
     "name": "stdout",
     "output_type": "stream",
     "text": [
      "torch.Size([1624, 12, 8, 8])\n",
      "torch.Size([1624, 1])\n"
     ]
    }
   ],
   "source": [
    "# data preview\n",
    "print(X_train.shape)\n",
    "print(y_train.shape)\n",
    "\n"
   ]
  },
  {
   "attachments": {},
   "cell_type": "markdown",
   "metadata": {},
   "source": [
    "# autoencoder arhitecture network\n",
    "\n",
    "we define a network with increasingly narrower layers. Middle layer is the embedding."
   ]
  },
  {
   "cell_type": "code",
   "execution_count": 60,
   "metadata": {},
   "outputs": [],
   "source": [
    "import torch.functional as F\n",
    "import torch\n",
    "import torch.nn as nn\n",
    "\n",
    "relu = F.F.relu\n",
    "\n",
    "\n",
    "# define the neural network\n",
    "class Net(torch.nn.Module):\n",
    "    def __init__(self):\n",
    "        super(Net, self).__init__()\n",
    "\n",
    "        # autoencoder start with input size \n",
    "        self.fc1 = nn.Linear(12*8*8, 1024)\n",
    "        self.dropout1 = nn.Dropout(0.5)\n",
    "        self.fc2 = nn.Linear(1024, 512)\n",
    "        self.dropout2 = nn.Dropout(0.5)\n",
    "        self.fc3 = nn.Linear(512, 256)\n",
    "        self.dropout3 = nn.Dropout(0.5)\n",
    "        # embedding layer\n",
    "        self.fc4 = nn.Linear(256, 128)\n",
    "        self.dropout4 = nn.Dropout(0.5)\n",
    "        # decoder\n",
    "        self.fc5 = nn.Linear(128,256)\n",
    "        self.dropout5 = nn.Dropout(0.5)\n",
    "        self.fc6 = nn.Linear(256, 512)\n",
    "        self.dropout6 = nn.Dropout(0.5)\n",
    "        self.fc7 = nn.Linear(512, 1024)\n",
    "        self.dropout7 = nn.Dropout(0.5)\n",
    "        self.fc8 = nn.Linear(1024, 12*8*8)\n",
    "\n",
    "\n",
    "\n",
    "    def forward(self, x):\n",
    "        # reshape\n",
    "        x = x.view(-1, 12*8*8)\n",
    "        # pass\n",
    "        x = relu(self.fc1(x))\n",
    "        x = self.dropout1(x)\n",
    "        x = relu(self.fc2(x))\n",
    "        x = self.dropout2(x)\n",
    "        x = relu(self.fc3(x))\n",
    "        x = self.dropout3(x)\n",
    "        x = relu(self.fc4(x))\n",
    "        x = self.dropout4(x)\n",
    "        x = relu(self.fc5(x))\n",
    "        x = self.dropout5(x)\n",
    "        x = relu(self.fc6(x))\n",
    "        x = self.dropout6(x)\n",
    "        x = relu(self.fc7(x))\n",
    "        x = self.dropout7(x)\n",
    "        x = self.fc8(x)\n",
    "        # reshape\n",
    "        return x.view(-1, 12, 8, 8)\n",
    "    \n",
    "    def predict(self, x):\n",
    "        # reshape\n",
    "        x = x.view(-1, 12*8*8)\n",
    "        # pass\n",
    "        x = relu(self.fc1(x))\n",
    "        x = relu(self.fc2(x))\n",
    "        x = relu(self.fc3(x))\n",
    "        x = relu(self.fc4(x))\n",
    "        x = relu(self.fc5(x))\n",
    "        x = relu(self.fc6(x))\n",
    "        x = relu(self.fc7(x))\n",
    "        x = self.fc8(x)\n",
    "        # reshape\n",
    "        return x.view(-1, 12, 8, 8)\n",
    "    \n",
    "    def embed(self, x):\n",
    "        # reshape\n",
    "        x = x.view(-1, 12*8*8)\n",
    "\n",
    "        # forward pass\n",
    "        x = relu(self.fc1(x))\n",
    "        x = relu(self.fc2(x))\n",
    "        x = relu(self.fc3(x))\n",
    "        x = relu(self.fc4(x))\n",
    "        return x"
   ]
  },
  {
   "attachments": {},
   "cell_type": "markdown",
   "metadata": {},
   "source": [
    "# running the model"
   ]
  },
  {
   "cell_type": "code",
   "execution_count": 63,
   "metadata": {},
   "outputs": [
    {
     "name": "stdout",
     "output_type": "stream",
     "text": [
      "epoch 0, loss 16.637657165527344\n",
      "epoch 1, loss 15.141633987426758\n",
      "epoch 2, loss 14.2717866897583\n",
      "epoch 3, loss 13.798789978027344\n",
      "epoch 4, loss 13.68751049041748\n",
      "epoch 5, loss 13.421772956848145\n",
      "epoch 6, loss 13.292110443115234\n",
      "epoch 7, loss 13.251688957214355\n",
      "epoch 8, loss 13.22873306274414\n",
      "epoch 9, loss 13.144010543823242\n",
      "epoch 10, loss 13.05517864227295\n",
      "epoch 11, loss 12.990988731384277\n",
      "epoch 12, loss 13.012935638427734\n",
      "epoch 13, loss 12.8754301071167\n",
      "epoch 14, loss 12.89731216430664\n",
      "epoch 15, loss 12.852861404418945\n",
      "epoch 16, loss 12.802620887756348\n",
      "epoch 17, loss 12.759516716003418\n",
      "epoch 18, loss 12.74320125579834\n",
      "epoch 19, loss 12.736407279968262\n"
     ]
    }
   ],
   "source": [
    "net = Net()\n",
    "\n",
    "BATCH_SIZE = 200\n",
    "\n",
    "def myLoss (outputs, inputs):\n",
    "    diff = torch.square(outputs - inputs)\n",
    "    diff = torch.sum(diff,axis=(1,2,3)) # sum between features\n",
    "\n",
    "    diff = torch.mean(diff, axis=(0)) # mean between samples\n",
    "    return diff\n",
    "\n",
    "# criterion = torch.nn.L1Loss( reduction='mean', reduce=True)\n",
    "\n",
    "# define the optimizer\n",
    "optimizer = torch.optim.Adagrad(net.parameters(), lr=0.007)\n",
    "\n",
    "for epoch in range(20):\n",
    "    for batch in range(0, len(X_train), BATCH_SIZE):\n",
    "        optimizer.zero_grad()\n",
    "        outputs = net.forward(X_train)\n",
    "        loss = myLoss(outputs, X_train) # difference between outputs and inputs\n",
    "        loss.backward()\n",
    "        optimizer.step()\n",
    "    print('epoch {}, loss {}'.format(epoch, loss.item()))"
   ]
  },
  {
   "cell_type": "code",
   "execution_count": 67,
   "metadata": {},
   "outputs": [
    {
     "name": "stdout",
     "output_type": "stream",
     "text": [
      "test loss: 12.830560684204102\n"
     ]
    }
   ],
   "source": [
    "# test the model\n",
    "with torch.no_grad():\n",
    "    outputs = net.predict(X_test)\n",
    "    loss = myLoss(outputs, X_test)\n",
    "    print('test loss: {}'.format((loss.item())))\n",
    "\n",
    "# save the model\n",
    "MODEL_PATH = 'model_material.pth'\n",
    "torch.save(net.state_dict(), MODEL_PATH)"
   ]
  },
  {
   "cell_type": "code",
   "execution_count": 44,
   "metadata": {},
   "outputs": [
    {
     "name": "stdout",
     "output_type": "stream",
     "text": [
      "test loss: 0.863443911075592\n"
     ]
    }
   ],
   "source": [
    "# load the model\n",
    "net = Net()\n",
    "net.load_state_dict(torch.load(MODEL_PATH))\n",
    "\n",
    "# test the model\n",
    "with torch.no_grad():\n",
    "    outputs = net.predict(X_test)\n",
    "    loss = criterion(outputs, y_test)\n",
    "    print('test loss: {}'.format(abs(loss.item())))"
   ]
  }
 ],
 "metadata": {
  "kernelspec": {
   "display_name": "Python 3 (ipykernel)",
   "language": "python",
   "name": "python3"
  },
  "language_info": {
   "codemirror_mode": {
    "name": "ipython",
    "version": 3
   },
   "file_extension": ".py",
   "mimetype": "text/x-python",
   "name": "python",
   "nbconvert_exporter": "python",
   "pygments_lexer": "ipython3",
   "version": "3.10.6"
  },
  "orig_nbformat": 4,
  "vscode": {
   "interpreter": {
    "hash": "31f2aee4e71d21fbe5cf8b01ff0e069b9275f58929596ceb00d14d90e3e16cd6"
   }
  }
 },
 "nbformat": 4,
 "nbformat_minor": 2
}
