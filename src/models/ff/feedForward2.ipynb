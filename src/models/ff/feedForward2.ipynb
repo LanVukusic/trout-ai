{
 "cells": [
  {
   "cell_type": "code",
   "execution_count": 2,
   "metadata": {},
   "outputs": [
    {
     "data": {
      "text/plain": [
       "device(type='cuda', index=0)"
      ]
     },
     "execution_count": 2,
     "metadata": {},
     "output_type": "execute_result"
    }
   ],
   "source": [
    "import torch\n",
    "import numpy as np\n",
    "\n",
    "# display CUDA devices available\n",
    "torch.cuda.get_device_name(0)\n",
    "\n",
    "# set device to GPU\n",
    "device = torch.device(\"cuda:0\" if torch.cuda.is_available() else \"cpu\")\n",
    "device"
   ]
  },
  {
   "cell_type": "code",
   "execution_count": 5,
   "metadata": {},
   "outputs": [],
   "source": [
    "# load data\n",
    "\n",
    "boards = np.load('../../data/seven/boards.npy')\n",
    "moves = np.load('../../data/seven/moves.npy')\n",
    "\n",
    "# shuffle data\n",
    "np.random.seed(0)\n",
    "np.random.shuffle(boards)\n",
    "np.random.seed(0)\n",
    "np.random.shuffle(moves)\n",
    "\n",
    "# split data into train and test\n",
    "TRAIN_SPLIT = 0.8\n",
    "train_boards = boards[:int(len(boards) * TRAIN_SPLIT)]\n",
    "train_moves = moves[:int(len(moves) * TRAIN_SPLIT)]\n",
    "\n",
    "test_boards = boards[int(len(boards) * TRAIN_SPLIT):]\n",
    "test_moves = moves[int(len(moves) * TRAIN_SPLIT):]\n",
    "\n",
    "# convert to tensors\n",
    "train_boards = torch.from_numpy(train_boards).float()\n",
    "train_moves = torch.from_numpy(train_moves).float()\n",
    "\n",
    "test_boards = torch.from_numpy(test_boards).float()\n",
    "test_moves = torch.from_numpy(test_moves).float()\n"
   ]
  },
  {
   "cell_type": "code",
   "execution_count": null,
   "metadata": {},
   "outputs": [
    {
     "ename": "",
     "evalue": "",
     "output_type": "error",
     "traceback": [
      "\u001b[1;31mFailed to start the Kernel. \n",
      "\u001b[1;31mKernel Python 3.10.6 is not usable. Check the Jupyter output tab for more information. \n",
      "\u001b[1;31mView Jupyter <a href='command:jupyter.viewOutput'>log</a> for further details."
     ]
    }
   ],
   "source": [
    "# create model\n",
    "import torch\n",
    "\n",
    "\n",
    "class FeedForward(torch.nn.Module):\n",
    "    def __init__(self):\n",
    "        super(FeedForward, self).__init__()\n",
    "        self.fc1 = torch.nn.Linear(12 * 8 * 8 + 2, 1024)\n",
    "        self.fc2 = torch.nn.Linear(1024, 512)\n",
    "        self.fc3 = torch.nn.Linear(512, 256)  # 2 for turn\n",
    "        self.fc4 = torch.nn.Linear(256, 128)  # 2 for turn\n",
    "        self.fc5 = torch.nn.Linear(128, 64)\n",
    "        self.fc6 = torch.nn.Linear(64, 1)\n",
    "\n",
    "        self.activation = torch.nn.ReLU()\n",
    "        self.dropout = torch.nn.Dropout(p=0.25)\n",
    "\n",
    "    def forward(self, x):\n",
    "        # reshape x to be 12*8*8\n",
    "        # x = x.view(-1, 12*8*8)\n",
    "\n",
    "        x = self.fc1(x)\n",
    "        x = self.activation(x)\n",
    "        x = self.dropout(x)\n",
    "        x = self.fc2(x)\n",
    "        x = self.activation(x)\n",
    "        x = self.dropout(x)\n",
    "        x = self.fc3(x)\n",
    "        x = self.activation(x)\n",
    "        x = self.dropout(x)\n",
    "        x = self.fc4(x)\n",
    "        x = self.activation(x)\n",
    "        x = self.dropout(x)\n",
    "        x = self.fc5(x)\n",
    "        x = self.activation(x)\n",
    "        x = self.dropout(x)\n",
    "        x = self.fc6(x)\n",
    "\n",
    "        return x\n",
    "\n",
    "    def predict(self, x):\n",
    "        # reshape x to be 12*8*8\n",
    "        # x = x.view(-1, 12*8*8)\n",
    "\n",
    "        x = self.fc1(x)\n",
    "        x = self.activation(x)\n",
    "        x = self.fc2(x)\n",
    "        x = self.activation(x)\n",
    "        x = self.fc3(x)\n",
    "        x = self.activation(x)\n",
    "        x = self.fc4(x)\n",
    "        x = self.activation(x)\n",
    "        x = self.fc5(x)\n",
    "        x = self.activation(x)\n",
    "        x = self.fc6(x)\n",
    "\n",
    "        return x\n",
    "\n",
    "    def embed(self, x):\n",
    "        # reshape x to be 12*8*8\n",
    "        # x = x.view(-1, 12*8*8)\n",
    "\n",
    "        x = self.fc1(x)\n",
    "        x = self.activation(x)\n",
    "        x = self.fc2(x)\n",
    "        x = self.activation(x)\n",
    "        x = self.fc3(x)\n",
    "        x = self.activation(x)\n",
    "        x = self.fc4(x)\n",
    "        x = self.activation(x)\n",
    "        x = self.fc5(x)\n",
    "\n",
    "        return x\n",
    "\n",
    "\n",
    "# train model\n",
    "loss = torch.nn.L1Loss()\n",
    "model = FeedForward().to(device)\n"
   ]
  },
  {
   "cell_type": "code",
   "execution_count": 1,
   "metadata": {},
   "outputs": [
    {
     "ename": "NameError",
     "evalue": "name 'torch' is not defined",
     "output_type": "error",
     "traceback": [
      "\u001b[0;31m---------------------------------------------------------------------------\u001b[0m",
      "\u001b[0;31mNameError\u001b[0m                                 Traceback (most recent call last)",
      "Cell \u001b[0;32mIn[1], line 7\u001b[0m\n\u001b[1;32m      3\u001b[0m train_loss_data \u001b[39m=\u001b[39m []\n\u001b[1;32m      6\u001b[0m \u001b[39m# train model\u001b[39;00m\n\u001b[0;32m----> 7\u001b[0m loss \u001b[39m=\u001b[39m torch\u001b[39m.\u001b[39mnn\u001b[39m.\u001b[39mL1Loss()\n\u001b[1;32m      8\u001b[0m model \u001b[39m=\u001b[39m FeedForward()\u001b[39m.\u001b[39mto(device)\n\u001b[1;32m     10\u001b[0m \u001b[39m# hyperparameters\u001b[39;00m\n",
      "\u001b[0;31mNameError\u001b[0m: name 'torch' is not defined"
     ]
    }
   ],
   "source": [
    "# model graphing code\n",
    "test_loss_data = []\n",
    "train_loss_data = []\n",
    "\n",
    "\n",
    "# hyperparameters\n",
    "EPOCHS = 7000\n",
    "BATCH_SIZE = 800\n",
    "LEARNING_RATE = 15e-7\n",
    "\n",
    "# optimizer\n",
    "optimizer = torch.optim.Adam(model.parameters(), lr=LEARNING_RATE)\n",
    "\n",
    "# train\n",
    "for epoch in range(EPOCHS):\n",
    "  for i in range(0, len(train_evals), BATCH_SIZE):\n",
    "    # get batch\n",
    "    batch_evals = train_evals[i:i+BATCH_SIZE].to(device)\n",
    "    batch_turns = train_turns[i:i+BATCH_SIZE].to(device)\n",
    "    batch_boards = train_boards[i:i+BATCH_SIZE].to(device)\n",
    "\n",
    "    # forward pass\n",
    "    y_pred = model.forward(batch_boards)\n",
    "\n",
    "    # calculate loss\n",
    "    loss_val = loss(y_pred, batch_evals)\n",
    "\n",
    "    # backward pass\n",
    "    optimizer.zero_grad()\n",
    "    loss_val.backward()\n",
    "    optimizer.step()\n",
    "\n",
    "  # print loss every 100 epochs\n",
    "  if epoch % 100 == 0:\n",
    "    # use test data to calculate loss\n",
    "    y_pred = model.predict(test_boards.to(device))\n",
    "    test_loss = loss(y_pred, test_evals.to(device)).item()*EVAL_DIVISOR\n",
    "\n",
    "    # use train data to calculate loss\n",
    "    y_pred = model.predict(train_boards.to(device))\n",
    "    train_loss = loss(y_pred, train_evals.to(device)).item()*EVAL_DIVISOR\n",
    "    print('Epoch: ', epoch, \"test: \", test_loss, \"train: \", train_loss)\n",
    "\n",
    "    # save loss data\n",
    "    test_loss_data.append(test_loss)\n",
    "    train_loss_data.append(train_loss)\n",
    "\n",
    "\n",
    "import matplotlib.pyplot as plt\n",
    "# plot loss\n",
    "plt.plot(test_loss_data, label='test')\n",
    "plt.plot(train_loss_data, label='train')\n",
    "plt.legend()\n",
    "plt.show()\n",
    "\n"
   ]
  },
  {
   "cell_type": "code",
   "execution_count": 100,
   "metadata": {},
   "outputs": [],
   "source": [
    "# save model\n",
    "torch.save(model.state_dict(), 'model.pth')"
   ]
  },
  {
   "cell_type": "code",
   "execution_count": 10,
   "metadata": {},
   "outputs": [
    {
     "name": "stdout",
     "output_type": "stream",
     "text": [
      "Test loss:  90.45369923114777\n"
     ]
    }
   ],
   "source": [
    "# load model\n",
    "model = FeedForward().to(device)\n",
    "model.load_state_dict(torch.load('model.pth'))\n",
    "\n",
    "# test model\n",
    "y_pred = model.predict(test_boards.to(device))\n",
    "test_loss = loss(y_pred, test_evals.to(device)).item()*EVAL_DIVISOR\n",
    "print('Test loss: ', test_loss)"
   ]
  }
 ],
 "metadata": {
  "kernelspec": {
   "display_name": "Python 3",
   "language": "python",
   "name": "python3"
  },
  "language_info": {
   "codemirror_mode": {
    "name": "ipython",
    "version": 3
   },
   "file_extension": ".py",
   "mimetype": "text/x-python",
   "name": "python",
   "nbconvert_exporter": "python",
   "pygments_lexer": "ipython3",
   "version": "3.10.6"
  },
  "orig_nbformat": 4,
  "vscode": {
   "interpreter": {
    "hash": "31f2aee4e71d21fbe5cf8b01ff0e069b9275f58929596ceb00d14d90e3e16cd6"
   }
  }
 },
 "nbformat": 4,
 "nbformat_minor": 2
}
