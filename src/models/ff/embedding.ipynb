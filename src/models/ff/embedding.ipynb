{
 "cells": [
  {
   "attachments": {},
   "cell_type": "markdown",
   "metadata": {},
   "source": [
    "# embeddings based on local model, feedforward neural network"
   ]
  },
  {
   "cell_type": "code",
   "execution_count": 27,
   "metadata": {},
   "outputs": [],
   "source": [
    "# imnport libraries\n",
    "import torch\n",
    "import numpy as np\n",
    "import matplotlib.pyplot as plt\n",
    "%matplotlib widget\n",
    "\n",
    "# display CUDA devices available\n",
    "torch.cuda.get_device_name(0)\n",
    "\n",
    "# set device to GPU\n",
    "device = torch.device(\"cuda:0\" if torch.cuda.is_available() else \"cpu\")\n"
   ]
  },
  {
   "cell_type": "code",
   "execution_count": 48,
   "metadata": {},
   "outputs": [],
   "source": [
    "# create model\n",
    "import torch\n",
    "\n",
    "\n",
    "class FeedForward(torch.nn.Module):\n",
    "    def __init__(self):\n",
    "        super(FeedForward, self).__init__()\n",
    "        self.fc1 = torch.nn.Linear(12 * 8 * 8 + 2, 1024)\n",
    "        self.fc2 = torch.nn.Linear(1024, 512)\n",
    "        self.fc3 = torch.nn.Linear(512, 256)  # 2 for turn\n",
    "        self.fc4 = torch.nn.Linear(256, 128)  # 2 for turn\n",
    "        self.fc5 = torch.nn.Linear(128, 64)\n",
    "        self.fc6 = torch.nn.Linear(64, 1)\n",
    "\n",
    "        self.activation = torch.nn.ReLU()\n",
    "        self.dropout = torch.nn.Dropout(p=0.25)\n",
    "\n",
    "    def forward(self, x):\n",
    "        # reshape x to be 12*8*8\n",
    "        # x = x.view(-1, 12*8*8)\n",
    "\n",
    "        x = self.fc1(x)\n",
    "        x = self.activation(x)\n",
    "        x = self.dropout(x)\n",
    "        x = self.fc2(x)\n",
    "        x = self.activation(x)\n",
    "        x = self.dropout(x)\n",
    "        x = self.fc3(x)\n",
    "        x = self.activation(x)\n",
    "        x = self.dropout(x)\n",
    "        x = self.fc4(x)\n",
    "        x = self.activation(x)\n",
    "        x = self.dropout(x)\n",
    "        x = self.fc5(x)\n",
    "        x = self.activation(x)\n",
    "        x = self.dropout(x)\n",
    "        x = self.fc6(x)\n",
    "\n",
    "        return x\n",
    "\n",
    "    def predict(self, x):\n",
    "        # reshape x to be 12*8*8\n",
    "        # x = x.view(-1, 12*8*8)\n",
    "\n",
    "        x = self.fc1(x)\n",
    "        x = self.activation(x)\n",
    "        x = self.fc2(x)\n",
    "        x = self.activation(x)\n",
    "        x = self.fc3(x)\n",
    "        x = self.activation(x)\n",
    "        x = self.fc4(x)\n",
    "        x = self.activation(x)\n",
    "        x = self.fc5(x)\n",
    "        x = self.activation(x)\n",
    "        x = self.fc6(x)\n",
    "\n",
    "        return x\n",
    "\n",
    "    def embed(self, x):\n",
    "        # reshape x to be 12*8*8\n",
    "        # x = x.view(-1, 12*8*8)\n",
    "\n",
    "        x = self.fc1(x)\n",
    "        x = self.activation(x)\n",
    "        x = self.fc2(x)\n",
    "        x = self.activation(x)\n",
    "        x = self.fc3(x)\n",
    "        x = self.activation(x)\n",
    "        x = self.fc4(x)\n",
    "        x = self.activation(x)\n",
    "        x = self.fc5(x)\n",
    "\n",
    "        return x\n",
    "\n"
   ]
  },
  {
   "cell_type": "code",
   "execution_count": 49,
   "metadata": {},
   "outputs": [],
   "source": [
    "# load data\n",
    "\n",
    "evals = np.load('../../data/evaluations.npy')\n",
    "turns = np.load('../../data/turns.npy')\n",
    "one_hot_boards = np.load('../../data/one_hot_boards.npy')\n",
    "\n",
    "# reshape data to be 2D\n",
    "evals = evals.reshape(-1, 1)\n",
    "# normalize data to be / 100\n",
    "EVAL_DIVISOR = 1000\n",
    "evals = evals / EVAL_DIVISOR\n",
    "\n",
    "# shuffle data\n",
    "np.random.seed(0)\n",
    "np.random.shuffle(evals)\n",
    "np.random.seed(0)\n",
    "np.random.shuffle(turns)\n",
    "np.random.seed(0)\n",
    "np.random.shuffle(one_hot_boards)\n",
    "\n",
    "# split data into train and test\n",
    "SPLIT_INDEX = int(len(evals) * 0.8)\n",
    "train_evals = evals[:SPLIT_INDEX]\n",
    "train_turns = turns[:SPLIT_INDEX]\n",
    "train_boards = one_hot_boards[:SPLIT_INDEX]\n",
    "\n",
    "test_evals = evals[SPLIT_INDEX:]\n",
    "test_turns = turns[SPLIT_INDEX:]\n",
    "test_boards = one_hot_boards[SPLIT_INDEX:]\n",
    "\n",
    "# convert to tensors\n",
    "train_evals = torch.from_numpy(train_evals).float()\n",
    "train_turns = torch.from_numpy(train_turns).float()\n",
    "train_boards = torch.from_numpy(train_boards).float()\n",
    "\n",
    "test_evals = torch.from_numpy(test_evals).float()\n",
    "test_turns = torch.from_numpy(test_turns).float()\n",
    "test_boards = torch.from_numpy(test_boards).float()\n",
    "\n",
    "# flatten boards and add turns \n",
    "train_boards = train_boards.view(train_boards.shape[0], -1)\n",
    "train_boards = torch.cat((train_boards, train_turns), 1)\n",
    "\n",
    "test_boards = test_boards.view(test_boards.shape[0], -1)\n",
    "test_boards = torch.cat((test_boards, test_turns), 1)"
   ]
  },
  {
   "cell_type": "code",
   "execution_count": 50,
   "metadata": {},
   "outputs": [
    {
     "name": "stdout",
     "output_type": "stream",
     "text": [
      "Test loss:  90.45369923114777\n"
     ]
    }
   ],
   "source": [
    "# load model\n",
    "model = FeedForward().to(device)\n",
    "model.load_state_dict(torch.load('model.pth'))\n",
    "loss = torch.nn.L1Loss()\n",
    "\n",
    "\n",
    "# test model\n",
    "y_pred = model.predict(test_boards.to(device))\n",
    "test_loss = loss(y_pred, test_evals.to(device)).item()*EVAL_DIVISOR\n",
    "print('Test loss: ', test_loss)"
   ]
  },
  {
   "cell_type": "code",
   "execution_count": 55,
   "metadata": {},
   "outputs": [
    {
     "name": "stdout",
     "output_type": "stream",
     "text": [
      "tensor([[-0.1001, -0.1295, -0.1408,  ...,  0.2095,  0.2381, -0.1323],\n",
      "        [ 0.9063,  0.4279,  0.4771,  ..., -0.4030, -0.6774,  0.4595],\n",
      "        [ 0.0542,  0.0651,  0.0818,  ..., -0.0555, -0.0535,  0.0905],\n",
      "        ...,\n",
      "        [ 0.5806,  0.2923,  0.3271,  ..., -0.2770, -0.4401,  0.3226],\n",
      "        [ 0.4570,  0.2378,  0.2688,  ..., -0.2125, -0.3220,  0.2680],\n",
      "        [ 0.0156,  0.0445,  0.0556,  ..., -0.0314, -0.0193,  0.0683]],\n",
      "       device='cuda:0', grad_fn=<AddmmBackward0>)\n"
     ]
    }
   ],
   "source": [
    "# embed boards\n",
    "\n",
    "# embed train boards\n",
    "train_embeds = model.embed(train_boards.to(device))\n",
    "\n",
    "# embed test boards\n",
    "print(train_embeds)"
   ]
  },
  {
   "cell_type": "code",
   "execution_count": 64,
   "metadata": {},
   "outputs": [
    {
     "name": "stdout",
     "output_type": "stream",
     "text": [
      "[t-SNE] Computing 121 nearest neighbors...\n",
      "[t-SNE] Indexed 3881 samples in 0.000s...\n",
      "[t-SNE] Computed neighbors for 3881 samples in 0.183s...\n",
      "[t-SNE] Computed conditional probabilities for sample 1000 / 3881\n",
      "[t-SNE] Computed conditional probabilities for sample 2000 / 3881\n",
      "[t-SNE] Computed conditional probabilities for sample 3000 / 3881\n",
      "[t-SNE] Computed conditional probabilities for sample 3881 / 3881\n",
      "[t-SNE] Mean sigma: 0.015530\n",
      "[t-SNE] KL divergence after 250 iterations with early exaggeration: 51.746323\n",
      "[t-SNE] KL divergence after 800 iterations: 0.287405\n"
     ]
    },
    {
     "ename": "AttributeError",
     "evalue": "'PathCollection' object has no property 'z'",
     "output_type": "error",
     "traceback": [
      "\u001b[0;31m---------------------------------------------------------------------------\u001b[0m",
      "\u001b[0;31mAttributeError\u001b[0m                            Traceback (most recent call last)",
      "Cell \u001b[0;32mIn[64], line 14\u001b[0m\n\u001b[1;32m     11\u001b[0m tsne_results \u001b[39m=\u001b[39m tsne\u001b[39m.\u001b[39mfit_transform(train_embeds\u001b[39m.\u001b[39mcpu()\u001b[39m.\u001b[39mdetach()\u001b[39m.\u001b[39mnumpy())\n\u001b[1;32m     13\u001b[0m \u001b[39m# plot TSNE embedding\u001b[39;00m\n\u001b[0;32m---> 14\u001b[0m sns\u001b[39m.\u001b[39;49mscatterplot(x\u001b[39m=\u001b[39;49mtsne_results[:,\u001b[39m0\u001b[39;49m], y\u001b[39m=\u001b[39;49mtsne_results[:,\u001b[39m1\u001b[39;49m], z\u001b[39m=\u001b[39;49mtsne_results[:,\u001b[39m2\u001b[39;49m], hue\u001b[39m=\u001b[39;49mtrain_evals\u001b[39m.\u001b[39;49mcpu()\u001b[39m.\u001b[39;49mdetach()\u001b[39m.\u001b[39;49mnumpy()\u001b[39m.\u001b[39;49mreshape(\u001b[39m-\u001b[39;49m\u001b[39m1\u001b[39;49m))\n\u001b[1;32m     16\u001b[0m \u001b[39m# show plot\u001b[39;00m\n\u001b[1;32m     17\u001b[0m plt\u001b[39m.\u001b[39mshow()\n",
      "File \u001b[0;32m~/.local/lib/python3.10/site-packages/seaborn/relational.py:761\u001b[0m, in \u001b[0;36mscatterplot\u001b[0;34m(data, x, y, hue, size, style, palette, hue_order, hue_norm, sizes, size_order, size_norm, markers, style_order, legend, ax, **kwargs)\u001b[0m\n\u001b[1;32m    758\u001b[0m color \u001b[39m=\u001b[39m kwargs\u001b[39m.\u001b[39mpop(\u001b[39m\"\u001b[39m\u001b[39mcolor\u001b[39m\u001b[39m\"\u001b[39m, \u001b[39mNone\u001b[39;00m)\n\u001b[1;32m    759\u001b[0m kwargs[\u001b[39m\"\u001b[39m\u001b[39mcolor\u001b[39m\u001b[39m\"\u001b[39m] \u001b[39m=\u001b[39m _default_color(ax\u001b[39m.\u001b[39mscatter, hue, color, kwargs)\n\u001b[0;32m--> 761\u001b[0m p\u001b[39m.\u001b[39;49mplot(ax, kwargs)\n\u001b[1;32m    763\u001b[0m \u001b[39mreturn\u001b[39;00m ax\n",
      "File \u001b[0;32m~/.local/lib/python3.10/site-packages/seaborn/relational.py:573\u001b[0m, in \u001b[0;36m_ScatterPlotter.plot\u001b[0;34m(self, ax, kws)\u001b[0m\n\u001b[1;32m    570\u001b[0m     kws\u001b[39m.\u001b[39msetdefault(\u001b[39m\"\u001b[39m\u001b[39medgecolor\u001b[39m\u001b[39m\"\u001b[39m, \u001b[39m\"\u001b[39m\u001b[39mw\u001b[39m\u001b[39m\"\u001b[39m)\n\u001b[1;32m    572\u001b[0m \u001b[39m# Draw the scatter plot\u001b[39;00m\n\u001b[0;32m--> 573\u001b[0m points \u001b[39m=\u001b[39m ax\u001b[39m.\u001b[39;49mscatter(x\u001b[39m=\u001b[39;49mx, y\u001b[39m=\u001b[39;49my, \u001b[39m*\u001b[39;49m\u001b[39m*\u001b[39;49mkws)\n\u001b[1;32m    575\u001b[0m \u001b[39m# Apply the mapping from semantic variables to artist attributes\u001b[39;00m\n\u001b[1;32m    577\u001b[0m \u001b[39mif\u001b[39;00m \u001b[39m\"\u001b[39m\u001b[39mhue\u001b[39m\u001b[39m\"\u001b[39m \u001b[39min\u001b[39;00m \u001b[39mself\u001b[39m\u001b[39m.\u001b[39mvariables:\n",
      "File \u001b[0;32m/usr/lib/python3/dist-packages/matplotlib/__init__.py:1416\u001b[0m, in \u001b[0;36m_preprocess_data.<locals>.inner\u001b[0;34m(ax, data, *args, **kwargs)\u001b[0m\n\u001b[1;32m   1413\u001b[0m \u001b[39m@functools\u001b[39m\u001b[39m.\u001b[39mwraps(func)\n\u001b[1;32m   1414\u001b[0m \u001b[39mdef\u001b[39;00m \u001b[39minner\u001b[39m(ax, \u001b[39m*\u001b[39margs, data\u001b[39m=\u001b[39m\u001b[39mNone\u001b[39;00m, \u001b[39m*\u001b[39m\u001b[39m*\u001b[39mkwargs):\n\u001b[1;32m   1415\u001b[0m     \u001b[39mif\u001b[39;00m data \u001b[39mis\u001b[39;00m \u001b[39mNone\u001b[39;00m:\n\u001b[0;32m-> 1416\u001b[0m         \u001b[39mreturn\u001b[39;00m func(ax, \u001b[39m*\u001b[39;49m\u001b[39mmap\u001b[39;49m(sanitize_sequence, args), \u001b[39m*\u001b[39;49m\u001b[39m*\u001b[39;49mkwargs)\n\u001b[1;32m   1418\u001b[0m     bound \u001b[39m=\u001b[39m new_sig\u001b[39m.\u001b[39mbind(ax, \u001b[39m*\u001b[39margs, \u001b[39m*\u001b[39m\u001b[39m*\u001b[39mkwargs)\n\u001b[1;32m   1419\u001b[0m     auto_label \u001b[39m=\u001b[39m (bound\u001b[39m.\u001b[39marguments\u001b[39m.\u001b[39mget(label_namer)\n\u001b[1;32m   1420\u001b[0m                   \u001b[39mor\u001b[39;00m bound\u001b[39m.\u001b[39mkwargs\u001b[39m.\u001b[39mget(label_namer))\n",
      "File \u001b[0;32m/usr/lib/python3/dist-packages/matplotlib/axes/_axes.py:4468\u001b[0m, in \u001b[0;36mAxes.scatter\u001b[0;34m(self, x, y, s, c, marker, cmap, norm, vmin, vmax, alpha, linewidths, edgecolors, plotnonfinite, **kwargs)\u001b[0m\n\u001b[1;32m   4458\u001b[0m collection \u001b[39m=\u001b[39m mcoll\u001b[39m.\u001b[39mPathCollection(\n\u001b[1;32m   4459\u001b[0m         (path,), scales,\n\u001b[1;32m   4460\u001b[0m         facecolors\u001b[39m=\u001b[39mcolors,\n\u001b[0;32m   (...)\u001b[0m\n\u001b[1;32m   4465\u001b[0m         alpha\u001b[39m=\u001b[39malpha\n\u001b[1;32m   4466\u001b[0m         )\n\u001b[1;32m   4467\u001b[0m collection\u001b[39m.\u001b[39mset_transform(mtransforms\u001b[39m.\u001b[39mIdentityTransform())\n\u001b[0;32m-> 4468\u001b[0m collection\u001b[39m.\u001b[39;49mupdate(kwargs)\n\u001b[1;32m   4470\u001b[0m \u001b[39mif\u001b[39;00m colors \u001b[39mis\u001b[39;00m \u001b[39mNone\u001b[39;00m:\n\u001b[1;32m   4471\u001b[0m     collection\u001b[39m.\u001b[39mset_array(c)\n",
      "File \u001b[0;32m/usr/lib/python3/dist-packages/matplotlib/artist.py:1064\u001b[0m, in \u001b[0;36mArtist.update\u001b[0;34m(self, props)\u001b[0m\n\u001b[1;32m   1062\u001b[0m             func \u001b[39m=\u001b[39m \u001b[39mgetattr\u001b[39m(\u001b[39mself\u001b[39m, \u001b[39mf\u001b[39m\u001b[39m\"\u001b[39m\u001b[39mset_\u001b[39m\u001b[39m{\u001b[39;00mk\u001b[39m}\u001b[39;00m\u001b[39m\"\u001b[39m, \u001b[39mNone\u001b[39;00m)\n\u001b[1;32m   1063\u001b[0m             \u001b[39mif\u001b[39;00m \u001b[39mnot\u001b[39;00m callable(func):\n\u001b[0;32m-> 1064\u001b[0m                 \u001b[39mraise\u001b[39;00m \u001b[39mAttributeError\u001b[39;00m(\u001b[39mf\u001b[39m\u001b[39m\"\u001b[39m\u001b[39m{\u001b[39;00m\u001b[39mtype\u001b[39m(\u001b[39mself\u001b[39m)\u001b[39m.\u001b[39m\u001b[39m__name__\u001b[39m\u001b[39m!r}\u001b[39;00m\u001b[39m object \u001b[39m\u001b[39m\"\u001b[39m\n\u001b[1;32m   1065\u001b[0m                                      \u001b[39mf\u001b[39m\u001b[39m\"\u001b[39m\u001b[39mhas no property \u001b[39m\u001b[39m{\u001b[39;00mk\u001b[39m!r}\u001b[39;00m\u001b[39m\"\u001b[39m)\n\u001b[1;32m   1066\u001b[0m             ret\u001b[39m.\u001b[39mappend(func(v))\n\u001b[1;32m   1067\u001b[0m \u001b[39mif\u001b[39;00m ret:\n",
      "\u001b[0;31mAttributeError\u001b[0m: 'PathCollection' object has no property 'z'"
     ]
    }
   ],
   "source": [
    "# import libraries\n",
    "# TSNE embedding\n",
    "\n",
    "from sklearn.manifold import TSNE\n",
    "import seaborn as sns\n",
    "\n",
    "# create TSNE embedding\n",
    "tsne = TSNE(n_components=3, verbose=1, perplexity=40, n_iter=800)\n",
    "\n",
    "# fit TSNE embedding and plot in xyz\n",
    "tsne_results = tsne.fit_transform(train_embeds.cpu().detach().numpy())\n",
    "\n",
    "# plot TSNE embedding\n",
    "\n",
    "\n",
    "# show plot\n",
    "plt.show()\n",
    "\n"
   ]
  }
 ],
 "metadata": {
  "kernelspec": {
   "display_name": "Python 3",
   "language": "python",
   "name": "python3"
  },
  "language_info": {
   "codemirror_mode": {
    "name": "ipython",
    "version": 3
   },
   "file_extension": ".py",
   "mimetype": "text/x-python",
   "name": "python",
   "nbconvert_exporter": "python",
   "pygments_lexer": "ipython3",
   "version": "3.10.6"
  },
  "orig_nbformat": 4,
  "vscode": {
   "interpreter": {
    "hash": "31f2aee4e71d21fbe5cf8b01ff0e069b9275f58929596ceb00d14d90e3e16cd6"
   }
  }
 },
 "nbformat": 4,
 "nbformat_minor": 2
}
